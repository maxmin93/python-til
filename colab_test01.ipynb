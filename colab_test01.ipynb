{
  "nbformat": 4,
  "nbformat_minor": 0,
  "metadata": {
    "colab": {
      "name": "colab-test01.ipynb",
      "provenance": [],
      "authorship_tag": "ABX9TyOdy3Katv2ICW3Gt0uunwwF",
      "include_colab_link": true
    },
    "kernelspec": {
      "name": "python3",
      "display_name": "Python 3"
    }
  },
  "cells": [
    {
      "cell_type": "markdown",
      "metadata": {
        "id": "view-in-github",
        "colab_type": "text"
      },
      "source": [
        "<a href=\"https://colab.research.google.com/github/maxmin93/python-til/blob/main/colab_test01.ipynb\" target=\"_parent\"><img src=\"https://colab.research.google.com/assets/colab-badge.svg\" alt=\"Open In Colab\"/></a>"
      ]
    },
    {
      "cell_type": "markdown",
      "metadata": {
        "id": "lZTUYcwWRI-g"
      },
      "source": [
        "Document Summarization using TextRank Example [(blog)](http://www.learn4master.com/algorithms/document-summarization-using-textrank-example)"
      ]
    },
    {
      "cell_type": "code",
      "metadata": {
        "id": "hORsU7BlPgPq"
      },
      "source": [
        "from nltk.tokenize.punkt import PunktSentenceTokenizer\n",
        " \n",
        "document = \"\"\"a long list of sentences.\n",
        "\"\"\"\n",
        "document = ' '.join(document.strip().split('\\n'))\n",
        " \n",
        "sentence_tokenizer = PunktSentenceTokenizer()\n",
        "sentences = sentence_tokenizer.tokenize(document)"
      ],
      "execution_count": 2,
      "outputs": []
    },
    {
      "cell_type": "code",
      "metadata": {
        "id": "zh5GdEDeP1qN"
      },
      "source": [
        "from collections import Counter\n",
        " \n",
        "def bag_of_words(sentence):\n",
        "  return Counter(word.lower().strip('.,') for word in sentence.split(' '))"
      ],
      "execution_count": 3,
      "outputs": []
    },
    {
      "cell_type": "code",
      "metadata": {
        "id": "FvNikLPKP7KG",
        "outputId": "fbf2d03f-92aa-495f-ccb9-64a0c7849a29",
        "colab": {
          "base_uri": "https://localhost:8080/"
        }
      },
      "source": [
        "from sklearn.feature_extraction.text import CountVectorizer\n",
        " \n",
        "c = CountVectorizer()\n",
        "bow_array = c.fit_transform([sentences[0]])\n",
        "bow_array.toarray()"
      ],
      "execution_count": 4,
      "outputs": [
        {
          "output_type": "execute_result",
          "data": {
            "text/plain": [
              "array([[1, 1, 1, 1]])"
            ]
          },
          "metadata": {
            "tags": []
          },
          "execution_count": 4
        }
      ]
    },
    {
      "cell_type": "code",
      "metadata": {
        "id": "925_cbgJP_KZ",
        "outputId": "6cf5ad32-15de-4c89-86fb-22c6a1f3a9f4",
        "colab": {
          "base_uri": "https://localhost:8080/"
        }
      },
      "source": [
        "from sklearn.feature_extraction.text import CountVectorizer\n",
        " \n",
        "c = CountVectorizer()\n",
        "bow_matrix = c.fit_transform(sentences)\n",
        "bow_matrix"
      ],
      "execution_count": 5,
      "outputs": [
        {
          "output_type": "execute_result",
          "data": {
            "text/plain": [
              "<1x4 sparse matrix of type '<class 'numpy.int64'>'\n",
              "\twith 4 stored elements in Compressed Sparse Row format>"
            ]
          },
          "metadata": {
            "tags": []
          },
          "execution_count": 5
        }
      ]
    },
    {
      "cell_type": "code",
      "metadata": {
        "id": "rU1W_nAeQHXd"
      },
      "source": [
        "from sklearn.feature_extraction.text import TfidfTransformer\n",
        "\n",
        "normalized_matrix = TfidfTransformer().fit_transform(bow_matrix)"
      ],
      "execution_count": 6,
      "outputs": []
    },
    {
      "cell_type": "code",
      "metadata": {
        "id": "WepWFtmVQNZy",
        "outputId": "4f8d45ad-be73-466a-8d9c-82371b9091cb",
        "colab": {
          "base_uri": "https://localhost:8080/"
        }
      },
      "source": [
        "similarity_graph = normalized_matrix * normalized_matrix.T\n",
        "similarity_graph.toarray()"
      ],
      "execution_count": 8,
      "outputs": [
        {
          "output_type": "execute_result",
          "data": {
            "text/plain": [
              "array([[1.]])"
            ]
          },
          "metadata": {
            "tags": []
          },
          "execution_count": 8
        }
      ]
    },
    {
      "cell_type": "code",
      "metadata": {
        "id": "5YbpexRCQQXj"
      },
      "source": [
        "import networkx as nx\n",
        "\n",
        "nx_graph = nx.from_scipy_sparse_matrix(similarity_graph)\n",
        "scores = nx.pagerank(nx_graph)"
      ],
      "execution_count": 9,
      "outputs": []
    }
  ]
}